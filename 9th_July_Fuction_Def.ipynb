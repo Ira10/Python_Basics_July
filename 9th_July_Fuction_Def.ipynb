{
 "cells": [
  {
   "cell_type": "code",
   "execution_count": 1,
   "metadata": {},
   "outputs": [
    {
     "data": {
      "text/plain": [
       "\"\\nwhy is it printing none in the end :: The main() function is being called with print(main()). In Python, print() outputs the return value of the function it's given, and main() does not explicitly return any value, so it returns None by default. Therefore, print(main()) prints None after executing the main() function.\\n\""
      ]
     },
     "execution_count": 1,
     "metadata": {},
     "output_type": "execute_result"
    }
   ],
   "source": [
    "def areaRec(length,breadth):\n",
    "    '''\n",
    "    Objective is to compute the area of a rectangle\n",
    "    using length and breadth\n",
    "    '''\n",
    "    area = length * breadth\n",
    "    return area \n",
    "\n",
    "def areaSquare(side):\n",
    "    areaSquare = areaRec(side,side)\n",
    "    return areaSquare\n",
    "\n",
    "def main():\n",
    "    print('Enter the following values to get the area')\n",
    "    lengthRect = int(input(\"Enter the length \"))\n",
    "    breadthRect = int(input(\"Enter the breadth \"))\n",
    "    areaRect_ = areaRec(lengthRect, breadthRect)\n",
    "    print('Area of a rectangle is', areaRect_)\n",
    "    print('\\n')\n",
    "    sideSqr = int(input(\"Enter the side of a square \"))\n",
    "    areaSqr_ = areaSquare (sideSqr)\n",
    "    print('Area of a square is', areaSqr_)\n",
    "    print(\"\\n The end of the program\")\n",
    "\n",
    "# print(main()) \n",
    "'''\n",
    "why is it printing none in the end :: The main() function is being called with print(main()). In Python, print() outputs the return value of the function it's given, and main() does not explicitly return any value, so it returns None by default. Therefore, print(main()) prints None after executing the main() function.\n",
    "'''\n",
    "\n",
    "# main()\n"
   ]
  },
  {
   "cell_type": "code",
   "execution_count": 2,
   "metadata": {},
   "outputs": [
    {
     "name": "stdout",
     "output_type": "stream",
     "text": [
      "Help on function areaRec in module __main__:\n",
      "\n",
      "areaRec(length, breadth)\n",
      "    Objective is to compute the area of a rectangle\n",
      "    using length and breadth\n",
      "\n"
     ]
    }
   ],
   "source": [
    "help(areaRec)"
   ]
  },
  {
   "cell_type": "code",
   "execution_count": 3,
   "metadata": {},
   "outputs": [
    {
     "name": "stdout",
     "output_type": "stream",
     "text": [
      "Help on function areaSquare in module __main__:\n",
      "\n",
      "areaSquare(side)\n",
      "\n"
     ]
    }
   ],
   "source": [
    "help(areaSquare)"
   ]
  }
 ],
 "metadata": {
  "kernelspec": {
   "display_name": "Python 3",
   "language": "python",
   "name": "python3"
  },
  "language_info": {
   "codemirror_mode": {
    "name": "ipython",
    "version": 3
   },
   "file_extension": ".py",
   "mimetype": "text/x-python",
   "name": "python",
   "nbconvert_exporter": "python",
   "pygments_lexer": "ipython3",
   "version": "3.9.6"
  }
 },
 "nbformat": 4,
 "nbformat_minor": 2
}
