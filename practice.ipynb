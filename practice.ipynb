{
 "cells": [
  {
   "cell_type": "code",
   "execution_count": 5,
   "metadata": {},
   "outputs": [
    {
     "ename": "ImportError",
     "evalue": "cannot import name 'main' from 'practice1' (/Users/indranisarkar/Python Basics /Python Basics - July/practice1.py)",
     "output_type": "error",
     "traceback": [
      "\u001b[0;31m---------------------------------------------------------------------------\u001b[0m",
      "\u001b[0;31mImportError\u001b[0m                               Traceback (most recent call last)",
      "\u001b[1;32m/Users/indranisarkar/Python Basics /Python Basics - July/practice.ipynb Cell 1\u001b[0m line \u001b[0;36m1\n\u001b[0;32m----> <a href='vscode-notebook-cell:/Users/indranisarkar/Python%20Basics%20/Python%20Basics%20-%20July/practice.ipynb#W0sZmlsZQ%3D%3D?line=0'>1</a>\u001b[0m \u001b[39mfrom\u001b[39;00m \u001b[39mpractice1\u001b[39;00m \u001b[39mimport\u001b[39;00m main \n\u001b[1;32m      <a href='vscode-notebook-cell:/Users/indranisarkar/Python%20Basics%20/Python%20Basics%20-%20July/practice.ipynb#W0sZmlsZQ%3D%3D?line=2'>3</a>\u001b[0m main(\u001b[39m7\u001b[39m,\u001b[39m2\u001b[39m,\u001b[39m1\u001b[39m)\n",
      "\u001b[0;31mImportError\u001b[0m: cannot import name 'main' from 'practice1' (/Users/indranisarkar/Python Basics /Python Basics - July/practice1.py)"
     ]
    }
   ],
   "source": [
    "from practice1 import main \n",
    "\n",
    "main(7,2,1)"
   ]
  },
  {
   "cell_type": "markdown",
   "metadata": {},
   "source": [
    "### Using f string"
   ]
  },
  {
   "cell_type": "code",
   "execution_count": 6,
   "metadata": {},
   "outputs": [
    {
     "name": "stdout",
     "output_type": "stream",
     "text": [
      "hello from gfg , 25\n"
     ]
    }
   ],
   "source": [
    "def GFG(name, num): \n",
    "\tprint(f'hello from {name} , {num}') \n",
    "\n",
    "\n",
    "GFG(\"gfg\", \"25\") \n"
   ]
  },
  {
   "cell_type": "code",
   "execution_count": 8,
   "metadata": {},
   "outputs": [
    {
     "name": "stdout",
     "output_type": "stream",
     "text": [
      "hello from gfg , 25\n"
     ]
    }
   ],
   "source": [
    "name = 'gfg'\n",
    "num = 25\n",
    "def GFG(name, num): \n",
    "\tprint(f'hello from {name} , {num}') \n",
    "\n",
    "\n",
    "GFG(name,num) \n"
   ]
  },
  {
   "cell_type": "markdown",
   "metadata": {},
   "source": [
    "### Using *args"
   ]
  },
  {
   "cell_type": "code",
   "execution_count": 9,
   "metadata": {},
   "outputs": [
    {
     "name": "stdout",
     "output_type": "stream",
     "text": [
      "['Hello from', 'geeks', 25]\n",
      "['Hello', 'gfg', 26]\n"
     ]
    }
   ],
   "source": [
    "def GFG(*args): \n",
    "\tfor info in args: \n",
    "\t\tprint(info) \n",
    "\n",
    "\n",
    "GFG([\"Hello from\", \"geeks\", 25], [\"Hello\", \"gfg\", 26]) \n"
   ]
  },
  {
   "cell_type": "code",
   "execution_count": 10,
   "metadata": {},
   "outputs": [
    {
     "name": "stdout",
     "output_type": "stream",
     "text": [
      "['Hello from', 'geeks', 25]\n",
      "['Hello', 'gfg', 26]\n",
      "['okay']\n",
      "[473992]\n"
     ]
    }
   ],
   "source": [
    "def GFG(*args): \n",
    "\tfor info in args: \n",
    "\t\tprint(info) \n",
    "\n",
    "\n",
    "GFG([\"Hello from\", \"geeks\", 25], [\"Hello\", \"gfg\", 26], ['okay'], [473992]) \n"
   ]
  },
  {
   "cell_type": "markdown",
   "metadata": {},
   "source": [
    "### Using *kwargs"
   ]
  },
  {
   "cell_type": "code",
   "execution_count": 13,
   "metadata": {},
   "outputs": [
    {
     "name": "stdout",
     "output_type": "stream",
     "text": [
      "name geeks\n",
      "n - 25\n",
      "name best\n",
      "n - 26\n"
     ]
    }
   ],
   "source": [
    "def GFG(**kwargs): \n",
    "\tfor key, value in kwargs.items(): \n",
    "\t\tprint(key, value) \n",
    "\n",
    "\n",
    "GFG(name=\"geeks\", n=\"- 25\") \n",
    "GFG(name=\"best\", n=\"- 26\") \n"
   ]
  },
  {
   "cell_type": "code",
   "execution_count": 14,
   "metadata": {},
   "outputs": [
    {
     "name": "stdout",
     "output_type": "stream",
     "text": [
      "class_ 9\n",
      "sec C\n",
      "class_ 10\n",
      "sec A\n"
     ]
    }
   ],
   "source": [
    "def school(**kwargs): \n",
    "\tfor key, value in kwargs.items(): \n",
    "\t\tprint(key, value) \n",
    "\n",
    "\n",
    "GFG(class_=\"9\", sec=\"C\") \n",
    "GFG(class_=\"10\", sec=\"A\") "
   ]
  }
 ],
 "metadata": {
  "kernelspec": {
   "display_name": "Python 3",
   "language": "python",
   "name": "python3"
  },
  "language_info": {
   "codemirror_mode": {
    "name": "ipython",
    "version": 3
   },
   "file_extension": ".py",
   "mimetype": "text/x-python",
   "name": "python",
   "nbconvert_exporter": "python",
   "pygments_lexer": "ipython3",
   "version": "3.9.6"
  }
 },
 "nbformat": 4,
 "nbformat_minor": 2
}
