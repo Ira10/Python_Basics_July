{
 "cells": [
  {
   "cell_type": "code",
   "execution_count": 1,
   "metadata": {},
   "outputs": [],
   "source": [
    "from picture import sum"
   ]
  },
  {
   "cell_type": "code",
   "execution_count": 2,
   "metadata": {},
   "outputs": [
    {
     "data": {
      "text/plain": [
       "39"
      ]
     },
     "execution_count": 2,
     "metadata": {},
     "output_type": "execute_result"
    }
   ],
   "source": [
    "sum(6,33)"
   ]
  },
  {
   "cell_type": "code",
   "execution_count": 5,
   "metadata": {},
   "outputs": [
    {
     "name": "stdout",
     "output_type": "stream",
     "text": [
      "bc \n"
     ]
    }
   ],
   "source": [
    "'''\n",
    "Coomentss\n",
    "\n",
    "huhuh\n",
    "'''\n",
    "\n",
    "s = 'b' \n",
    "l = 'c '\n",
    "k = s\n",
    "\n",
    "print(k+l)"
   ]
  },
  {
   "cell_type": "code",
   "execution_count": 11,
   "metadata": {},
   "outputs": [
    {
     "ename": "ImportError",
     "evalue": "cannot import name 'main' from 'picture' (/Users/indranisarkar/Python Basics /Python Basics - July/picture.py)",
     "output_type": "error",
     "traceback": [
      "\u001b[0;31m---------------------------------------------------------------------------\u001b[0m",
      "\u001b[0;31mImportError\u001b[0m                               Traceback (most recent call last)",
      "\u001b[1;32m/Users/indranisarkar/Python Basics /Python Basics - July/6th_July_Function_Def_&_Call.ipynb Cell 4\u001b[0m line \u001b[0;36m1\n\u001b[0;32m----> <a href='vscode-notebook-cell:/Users/indranisarkar/Python%20Basics%20/Python%20Basics%20-%20July/6th_July_Function_Def_%26_Call.ipynb#W3sZmlsZQ%3D%3D?line=0'>1</a>\u001b[0m \u001b[39mfrom\u001b[39;00m \u001b[39mpicture\u001b[39;00m \u001b[39mimport\u001b[39;00m main\n\u001b[1;32m      <a href='vscode-notebook-cell:/Users/indranisarkar/Python%20Basics%20/Python%20Basics%20-%20July/6th_July_Function_Def_%26_Call.ipynb#W3sZmlsZQ%3D%3D?line=2'>3</a>\u001b[0m subs(\u001b[39m8\u001b[39m,\u001b[39m6\u001b[39m,\u001b[39m2\u001b[39m)\n",
      "\u001b[0;31mImportError\u001b[0m: cannot import name 'main' from 'picture' (/Users/indranisarkar/Python Basics /Python Basics - July/picture.py)"
     ]
    }
   ],
   "source": [
    "from picture import main\n",
    "\n",
    "subs(8,6,2)"
   ]
  },
  {
   "cell_type": "code",
   "execution_count": 15,
   "metadata": {},
   "outputs": [
    {
     "data": {
      "text/plain": [
       "13"
      ]
     },
     "execution_count": 15,
     "metadata": {},
     "output_type": "execute_result"
    }
   ],
   "source": [
    "from extra import main\n",
    "\n",
    "# result = main(88, 6, 2)\n",
    "# print(result)  # This should output 0\n",
    "\n",
    "main(88,66,9)\n"
   ]
  }
 ],
 "metadata": {
  "kernelspec": {
   "display_name": "Python 3",
   "language": "python",
   "name": "python3"
  },
  "language_info": {
   "codemirror_mode": {
    "name": "ipython",
    "version": 3
   },
   "file_extension": ".py",
   "mimetype": "text/x-python",
   "name": "python",
   "nbconvert_exporter": "python",
   "pygments_lexer": "ipython3",
   "version": "3.9.6"
  }
 },
 "nbformat": 4,
 "nbformat_minor": 2
}
