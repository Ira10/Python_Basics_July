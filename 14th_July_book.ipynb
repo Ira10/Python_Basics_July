{
 "cells": [
  {
   "cell_type": "code",
   "execution_count": 3,
   "metadata": {},
   "outputs": [
    {
     "name": "stdout",
     "output_type": "stream",
     "text": [
      "<function add_ at 0x10375d430>\n",
      "15\n"
     ]
    }
   ],
   "source": [
    "def add_(a,b,c):\n",
    "    addition = a + b\n",
    "    return addition\n",
    "\n",
    "print(add_)\n",
    "\n",
    "print(add_(7,8,9))"
   ]
  },
  {
   "cell_type": "code",
   "execution_count": 4,
   "metadata": {},
   "outputs": [
    {
     "name": "stdout",
     "output_type": "stream",
     "text": [
      "<function add_ at 0x10375d040>\n",
      "7\n"
     ]
    }
   ],
   "source": [
    "def add_(a,b,c):\n",
    "    addition = a + b\n",
    "    return a\n",
    "\n",
    "print(add_)\n",
    "\n",
    "print(add_(7,8,9))"
   ]
  }
 ],
 "metadata": {
  "kernelspec": {
   "display_name": "Python 3",
   "language": "python",
   "name": "python3"
  },
  "language_info": {
   "codemirror_mode": {
    "name": "ipython",
    "version": 3
   },
   "file_extension": ".py",
   "mimetype": "text/x-python",
   "name": "python",
   "nbconvert_exporter": "python",
   "pygments_lexer": "ipython3",
   "version": "3.9.6"
  }
 },
 "nbformat": 4,
 "nbformat_minor": 2
}
