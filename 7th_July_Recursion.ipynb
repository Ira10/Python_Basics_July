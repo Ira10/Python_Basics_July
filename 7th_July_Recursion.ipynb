{
 "cells": [
  {
   "cell_type": "code",
   "execution_count": 1,
   "metadata": {},
   "outputs": [
    {
     "name": "stdout",
     "output_type": "stream",
     "text": [
      "25\n"
     ]
    }
   ],
   "source": [
    "# Python3 code to recursively find\n",
    "# the power of a number\n",
    "\n",
    "# Recursive function to find N^P.\n",
    "def power(N, P):\n",
    "\n",
    "\t# If power is 0 then return 1\n",
    "\t# if condition is true\n",
    "\t# only then it will enter it,\n",
    "\t# otherwise not\n",
    "\tif P == 0:\n",
    "\t\treturn 1\n",
    "\n",
    "\t# Recurrence relation\n",
    "\treturn (N*power(N, P-1))\n",
    "\n",
    "\n",
    "# Driver code\n",
    "if __name__ == '__main__':\n",
    "\tN = 5\n",
    "\tP = 2\n",
    "\n",
    "\tprint(power(N, P))\n"
   ]
  },
  {
   "cell_type": "code",
   "execution_count": 7,
   "metadata": {},
   "outputs": [
    {
     "ename": "TypeError",
     "evalue": "power_() missing 1 required positional argument: 'P'",
     "output_type": "error",
     "traceback": [
      "\u001b[0;31m---------------------------------------------------------------------------\u001b[0m",
      "\u001b[0;31mTypeError\u001b[0m                                 Traceback (most recent call last)",
      "\u001b[1;32m/Users/indranisarkar/Python Basics /Python Basics - July/7th_July_Recursion.ipynb Cell 2\u001b[0m line \u001b[0;36m1\n\u001b[1;32m     <a href='vscode-notebook-cell:/Users/indranisarkar/Python%20Basics%20/Python%20Basics%20-%20July/7th_July_Recursion.ipynb#W1sZmlsZQ%3D%3D?line=14'>15</a>\u001b[0m \t\u001b[39mreturn\u001b[39;00m (N\u001b[39m*\u001b[39mpower_(N, P\u001b[39m-\u001b[39m\u001b[39m1\u001b[39m))\n\u001b[1;32m     <a href='vscode-notebook-cell:/Users/indranisarkar/Python%20Basics%20/Python%20Basics%20-%20July/7th_July_Recursion.ipynb#W1sZmlsZQ%3D%3D?line=17'>18</a>\u001b[0m \u001b[39m# Driver code\u001b[39;00m\n\u001b[0;32m---> <a href='vscode-notebook-cell:/Users/indranisarkar/Python%20Basics%20/Python%20Basics%20-%20July/7th_July_Recursion.ipynb#W1sZmlsZQ%3D%3D?line=18'>19</a>\u001b[0m power_(\u001b[39m9.3\u001b[39;49m)\n",
      "\u001b[0;31mTypeError\u001b[0m: power_() missing 1 required positional argument: 'P'"
     ]
    }
   ],
   "source": [
    "def power_(N, P):\n",
    "\n",
    "\tif P == 0:\n",
    "\t\treturn 1\n",
    "\n",
    "\t# Recurrence relation\n",
    "\treturn (N*power_(N, P-1))\n",
    "\n",
    "\n",
    "# Driver code\n",
    "power_(9.3)\n"
   ]
  },
  {
   "cell_type": "code",
   "execution_count": 8,
   "metadata": {},
   "outputs": [
    {
     "name": "stdout",
     "output_type": "stream",
     "text": [
      "804.3570000000002\n"
     ]
    }
   ],
   "source": [
    "def power_(N, P):\n",
    "    if P == 0:\n",
    "        return 1\n",
    "    return (N * power_(N, P-1))\n",
    "\n",
    "# Driver code\n",
    "print(power_(9.3, 3))\n"
   ]
  },
  {
   "cell_type": "code",
   "execution_count": 10,
   "metadata": {},
   "outputs": [
    {
     "name": "stdout",
     "output_type": "stream",
     "text": [
      "729\n"
     ]
    }
   ],
   "source": [
    "def power_(N, P):\n",
    "\n",
    "\tif P == 0:\n",
    "\t\treturn 1\n",
    "\n",
    "\t# Recurrence relation\n",
    "\treturn (N*power_(N, P-1))\n",
    "\n",
    "\n",
    "# Driver code\n",
    "print(power_(9,3))\n"
   ]
  },
  {
   "cell_type": "code",
   "execution_count": null,
   "metadata": {},
   "outputs": [],
   "source": []
  }
 ],
 "metadata": {
  "kernelspec": {
   "display_name": "Python 3",
   "language": "python",
   "name": "python3"
  },
  "language_info": {
   "codemirror_mode": {
    "name": "ipython",
    "version": 3
   },
   "file_extension": ".py",
   "mimetype": "text/x-python",
   "name": "python",
   "nbconvert_exporter": "python",
   "pygments_lexer": "ipython3",
   "version": "3.9.6"
  }
 },
 "nbformat": 4,
 "nbformat_minor": 2
}
