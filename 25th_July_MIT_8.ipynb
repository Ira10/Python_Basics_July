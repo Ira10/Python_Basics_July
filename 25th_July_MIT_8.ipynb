{
 "cells": [
  {
   "cell_type": "markdown",
   "metadata": {},
   "source": [
    "### Function Scope"
   ]
  },
  {
   "cell_type": "code",
   "execution_count": 1,
   "metadata": {},
   "outputs": [
    {
     "name": "stdout",
     "output_type": "stream",
     "text": [
      "in f(x): x =  100\n"
     ]
    }
   ],
   "source": [
    "def f( x ):\n",
    "    x = x + 1\n",
    "    print('in f(x): x = ', x)\n",
    "    return x\n",
    "\n",
    "# x = 3\n",
    "\n",
    "y = 99\n",
    "# z = f( x )\n",
    "z = f( y )"
   ]
  },
  {
   "cell_type": "code",
   "execution_count": 5,
   "metadata": {},
   "outputs": [
    {
     "name": "stdout",
     "output_type": "stream",
     "text": [
      "in f(x): x =  4\n"
     ]
    }
   ],
   "source": [
    "def f(x):\n",
    "    x = x + 1\n",
    "    print('in f(x): x = ', x)\n",
    "    return x\n",
    "\n",
    "# x = 3\n",
    "\n",
    "y = 3\n",
    "# z = f( x )\n",
    "z = f(y)"
   ]
  },
  {
   "cell_type": "markdown",
   "metadata": {},
   "source": [
    "#### First example"
   ]
  },
  {
   "cell_type": "code",
   "execution_count": 6,
   "metadata": {},
   "outputs": [
    {
     "name": "stdout",
     "output_type": "stream",
     "text": [
      "2\n",
      "5\n"
     ]
    }
   ],
   "source": [
    "def f(y):\n",
    "    x = 1 \n",
    "    x += 1 \n",
    "    print(x)\n",
    "\n",
    "x = 5\n",
    "f(x)\n",
    "print(x)"
   ]
  },
  {
   "cell_type": "markdown",
   "metadata": {},
   "source": [
    "#### Second"
   ]
  },
  {
   "cell_type": "code",
   "execution_count": 7,
   "metadata": {},
   "outputs": [
    {
     "name": "stdout",
     "output_type": "stream",
     "text": [
      "5\n",
      "6\n",
      "5\n"
     ]
    }
   ],
   "source": [
    "def g(y):\n",
    "    print(x)\n",
    "    print(x+1)\n",
    "\n",
    "x = 5\n",
    "g(x)\n",
    "print(x)"
   ]
  },
  {
   "cell_type": "code",
   "execution_count": 21,
   "metadata": {},
   "outputs": [
    {
     "name": "stdout",
     "output_type": "stream",
     "text": [
      "5\n",
      "6\n",
      "5\n"
     ]
    }
   ],
   "source": [
    "def g(y):\n",
    "    print(x)\n",
    "    print(x+1)\n",
    "\n",
    "z = 5\n",
    "g(z)\n",
    "print(x)"
   ]
  },
  {
   "cell_type": "markdown",
   "metadata": {},
   "source": [
    "### Third"
   ]
  },
  {
   "cell_type": "code",
   "execution_count": 1,
   "metadata": {},
   "outputs": [
    {
     "ename": "UnboundLocalError",
     "evalue": "local variable 'x' referenced before assignment",
     "output_type": "error",
     "traceback": [
      "\u001b[0;31m---------------------------------------------------------------------------\u001b[0m",
      "\u001b[0;31mUnboundLocalError\u001b[0m                         Traceback (most recent call last)",
      "\u001b[1;32m/Users/indrani.sarkar/Python Basics /Python Basics - July/25th_July_MIT_8.ipynb Cell 10\u001b[0m line \u001b[0;36m5\n\u001b[1;32m      <a href='vscode-notebook-cell:/Users/indrani.sarkar/Python%20Basics%20/Python%20Basics%20-%20July/25th_July_MIT_8.ipynb#X12sZmlsZQ%3D%3D?line=1'>2</a>\u001b[0m     x \u001b[39m+\u001b[39m\u001b[39m=\u001b[39m \u001b[39m1\u001b[39m \n\u001b[1;32m      <a href='vscode-notebook-cell:/Users/indrani.sarkar/Python%20Basics%20/Python%20Basics%20-%20July/25th_July_MIT_8.ipynb#X12sZmlsZQ%3D%3D?line=3'>4</a>\u001b[0m x \u001b[39m=\u001b[39m \u001b[39m5\u001b[39m\n\u001b[0;32m----> <a href='vscode-notebook-cell:/Users/indrani.sarkar/Python%20Basics%20/Python%20Basics%20-%20July/25th_July_MIT_8.ipynb#X12sZmlsZQ%3D%3D?line=4'>5</a>\u001b[0m h(x)\n\u001b[1;32m      <a href='vscode-notebook-cell:/Users/indrani.sarkar/Python%20Basics%20/Python%20Basics%20-%20July/25th_July_MIT_8.ipynb#X12sZmlsZQ%3D%3D?line=5'>6</a>\u001b[0m \u001b[39mprint\u001b[39m(x)\n",
      "\u001b[1;32m/Users/indrani.sarkar/Python Basics /Python Basics - July/25th_July_MIT_8.ipynb Cell 10\u001b[0m line \u001b[0;36m2\n\u001b[1;32m      <a href='vscode-notebook-cell:/Users/indrani.sarkar/Python%20Basics%20/Python%20Basics%20-%20July/25th_July_MIT_8.ipynb#X12sZmlsZQ%3D%3D?line=0'>1</a>\u001b[0m \u001b[39mdef\u001b[39;00m \u001b[39mh\u001b[39m(y):\n\u001b[0;32m----> <a href='vscode-notebook-cell:/Users/indrani.sarkar/Python%20Basics%20/Python%20Basics%20-%20July/25th_July_MIT_8.ipynb#X12sZmlsZQ%3D%3D?line=1'>2</a>\u001b[0m     x \u001b[39m+\u001b[39m\u001b[39m=\u001b[39m \u001b[39m1\u001b[39m\n",
      "\u001b[0;31mUnboundLocalError\u001b[0m: local variable 'x' referenced before assignment"
     ]
    }
   ],
   "source": [
    "def h(y):\n",
    "    x += 1 \n",
    "\n",
    "x = 5\n",
    "h(x)\n",
    "print(x)"
   ]
  },
  {
   "cell_type": "code",
   "execution_count": 20,
   "metadata": {},
   "outputs": [
    {
     "ename": "UnboundLocalError",
     "evalue": "local variable 'x' referenced before assignment",
     "output_type": "error",
     "traceback": [
      "\u001b[0;31m---------------------------------------------------------------------------\u001b[0m",
      "\u001b[0;31mUnboundLocalError\u001b[0m                         Traceback (most recent call last)",
      "\u001b[1;32m/Users/indrani.sarkar/Python Basics /Python Basics - July/25th_July_MIT_8.ipynb Cell 11\u001b[0m line \u001b[0;36m8\n\u001b[1;32m      <a href='vscode-notebook-cell:/Users/indrani.sarkar/Python%20Basics%20/Python%20Basics%20-%20July/25th_July_MIT_8.ipynb#X13sZmlsZQ%3D%3D?line=4'>5</a>\u001b[0m     \u001b[39mreturn\u001b[39;00m y\n\u001b[1;32m      <a href='vscode-notebook-cell:/Users/indrani.sarkar/Python%20Basics%20/Python%20Basics%20-%20July/25th_July_MIT_8.ipynb#X13sZmlsZQ%3D%3D?line=6'>7</a>\u001b[0m x \u001b[39m=\u001b[39m \u001b[39m5\u001b[39m\n\u001b[0;32m----> <a href='vscode-notebook-cell:/Users/indrani.sarkar/Python%20Basics%20/Python%20Basics%20-%20July/25th_July_MIT_8.ipynb#X13sZmlsZQ%3D%3D?line=7'>8</a>\u001b[0m h(x)\n\u001b[1;32m      <a href='vscode-notebook-cell:/Users/indrani.sarkar/Python%20Basics%20/Python%20Basics%20-%20July/25th_July_MIT_8.ipynb#X13sZmlsZQ%3D%3D?line=8'>9</a>\u001b[0m \u001b[39mprint\u001b[39m(x)\n",
      "\u001b[1;32m/Users/indrani.sarkar/Python Basics /Python Basics - July/25th_July_MIT_8.ipynb Cell 11\u001b[0m line \u001b[0;36m3\n\u001b[1;32m      <a href='vscode-notebook-cell:/Users/indrani.sarkar/Python%20Basics%20/Python%20Basics%20-%20July/25th_July_MIT_8.ipynb#X13sZmlsZQ%3D%3D?line=0'>1</a>\u001b[0m \u001b[39mdef\u001b[39;00m \u001b[39mh\u001b[39m(y):\n\u001b[1;32m      <a href='vscode-notebook-cell:/Users/indrani.sarkar/Python%20Basics%20/Python%20Basics%20-%20July/25th_July_MIT_8.ipynb#X13sZmlsZQ%3D%3D?line=1'>2</a>\u001b[0m     \u001b[39m# global x\u001b[39;00m\n\u001b[0;32m----> <a href='vscode-notebook-cell:/Users/indrani.sarkar/Python%20Basics%20/Python%20Basics%20-%20July/25th_July_MIT_8.ipynb#X13sZmlsZQ%3D%3D?line=2'>3</a>\u001b[0m     x \u001b[39m+\u001b[39m\u001b[39m=\u001b[39m \u001b[39m1\u001b[39m \n\u001b[1;32m      <a href='vscode-notebook-cell:/Users/indrani.sarkar/Python%20Basics%20/Python%20Basics%20-%20July/25th_July_MIT_8.ipynb#X13sZmlsZQ%3D%3D?line=3'>4</a>\u001b[0m     \u001b[39mprint\u001b[39m(y)\n\u001b[1;32m      <a href='vscode-notebook-cell:/Users/indrani.sarkar/Python%20Basics%20/Python%20Basics%20-%20July/25th_July_MIT_8.ipynb#X13sZmlsZQ%3D%3D?line=4'>5</a>\u001b[0m     \u001b[39mreturn\u001b[39;00m y\n",
      "\u001b[0;31mUnboundLocalError\u001b[0m: local variable 'x' referenced before assignment"
     ]
    }
   ],
   "source": [
    "def h(y):\n",
    "    # global x\n",
    "    x += 1 \n",
    "    print(y)\n",
    "    return y\n",
    "\n",
    "x = 5\n",
    "h(x)\n",
    "print(x)"
   ]
  },
  {
   "cell_type": "code",
   "execution_count": 22,
   "metadata": {},
   "outputs": [
    {
     "data": {
      "text/plain": [
       "function"
      ]
     },
     "execution_count": 22,
     "metadata": {},
     "output_type": "execute_result"
    }
   ],
   "source": [
    "type(g)"
   ]
  },
  {
   "cell_type": "code",
   "execution_count": 23,
   "metadata": {},
   "outputs": [
    {
     "name": "stdout",
     "output_type": "stream",
     "text": [
      "\n",
      "\n",
      "11\n",
      "\n",
      "\n"
     ]
    }
   ],
   "source": [
    "def sum():\n",
    "    sum_ = a + b \n",
    "    return sum_ \n",
    "\n",
    "a = 5\n",
    "b = 6\n",
    "\n",
    "print(\"\\n\")\n",
    "print(sum())\n",
    "print(\"\\n\")"
   ]
  },
  {
   "cell_type": "code",
   "execution_count": 24,
   "metadata": {},
   "outputs": [
    {
     "name": "stdout",
     "output_type": "stream",
     "text": [
      "<class 'int'>\n"
     ]
    }
   ],
   "source": [
    "print(type(sum()))"
   ]
  },
  {
   "cell_type": "code",
   "execution_count": 27,
   "metadata": {},
   "outputs": [
    {
     "data": {
      "text/plain": [
       "int"
      ]
     },
     "execution_count": 27,
     "metadata": {},
     "output_type": "execute_result"
    }
   ],
   "source": [
    "type(sum())"
   ]
  },
  {
   "cell_type": "code",
   "execution_count": 25,
   "metadata": {},
   "outputs": [
    {
     "name": "stdout",
     "output_type": "stream",
     "text": [
      "\n",
      "\n",
      "11\n",
      "\n",
      "\n"
     ]
    }
   ],
   "source": [
    "def add__():\n",
    "    sum_ = a + b \n",
    "    return sum_ \n",
    "\n",
    "a = 5\n",
    "b = 6\n",
    "\n",
    "print(\"\\n\")\n",
    "print(sum())\n",
    "print(\"\\n\")"
   ]
  },
  {
   "cell_type": "code",
   "execution_count": 26,
   "metadata": {},
   "outputs": [
    {
     "name": "stdout",
     "output_type": "stream",
     "text": [
      "<class 'int'>\n"
     ]
    }
   ],
   "source": [
    "print(type(add__()))"
   ]
  },
  {
   "cell_type": "code",
   "execution_count": 28,
   "metadata": {},
   "outputs": [
    {
     "data": {
      "text/plain": [
       "int"
      ]
     },
     "execution_count": 28,
     "metadata": {},
     "output_type": "execute_result"
    }
   ],
   "source": [
    "type(add__())"
   ]
  },
  {
   "cell_type": "code",
   "execution_count": 29,
   "metadata": {},
   "outputs": [
    {
     "data": {
      "text/plain": [
       "function"
      ]
     },
     "execution_count": 29,
     "metadata": {},
     "output_type": "execute_result"
    }
   ],
   "source": [
    "type(add__)"
   ]
  },
  {
   "cell_type": "markdown",
   "metadata": {},
   "source": [
    "the above is just the function name.\n",
    "\n",
    "with '()', this is calling the function, getting int as result"
   ]
  },
  {
   "cell_type": "markdown",
   "metadata": {},
   "source": []
  },
  {
   "cell_type": "markdown",
   "metadata": {},
   "source": []
  }
 ],
 "metadata": {
  "kernelspec": {
   "display_name": "Python 3",
   "language": "python",
   "name": "python3"
  },
  "language_info": {
   "codemirror_mode": {
    "name": "ipython",
    "version": 3
   },
   "file_extension": ".py",
   "mimetype": "text/x-python",
   "name": "python",
   "nbconvert_exporter": "python",
   "pygments_lexer": "ipython3",
   "version": "3.9.6"
  }
 },
 "nbformat": 4,
 "nbformat_minor": 2
}
