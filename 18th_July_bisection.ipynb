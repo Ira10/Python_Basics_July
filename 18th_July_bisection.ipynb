{
 "cells": [
  {
   "cell_type": "code",
   "execution_count": 15,
   "metadata": {},
   "outputs": [
    {
     "name": "stdout",
     "output_type": "stream",
     "text": [
      "num guess =  1\n",
      "num guess =  2\n",
      "num guess =  3\n",
      "num guess =  4\n",
      "num guess =  5\n",
      "num guess =  6\n",
      "num guess =  7\n",
      "num guess =  8\n",
      "num guess =  9\n",
      "10.9892578125  is root of  121\n"
     ]
    }
   ],
   "source": [
    "x = 121\n",
    "epsilon = 1\n",
    "num_guess = 0\n",
    "\n",
    "\n",
    "low = 0 \n",
    "high = x \n",
    "\n",
    "guess = (low+high)/2.0\n",
    "\n",
    "while abs(guess ** 2 - x) >= epsilon:\n",
    "    if guess** 2 < x:\n",
    "        # print(\"Too low\")\n",
    "        low = guess\n",
    "    else:\n",
    "        high = guess \n",
    "    guess = (low+high)/2.0\n",
    "\n",
    "    num_guess += 1\n",
    "    print(\"num guess = \", num_guess)\n",
    "\n",
    "# print(\"num guess = \", num_guess)\n",
    "\n",
    "print(guess, \" is root of \", x)"
   ]
  },
  {
   "cell_type": "code",
   "execution_count": 16,
   "metadata": {},
   "outputs": [
    {
     "name": "stdout",
     "output_type": "stream",
     "text": [
      "num guess =  1\n",
      "guess was  60.5\n",
      "num guess =  2\n",
      "guess was  30.25\n",
      "num guess =  3\n",
      "guess was  15.125\n",
      "num guess =  4\n",
      "guess was  7.5625\n",
      "num guess =  5\n",
      "guess was  11.34375\n",
      "num guess =  6\n",
      "guess was  9.453125\n",
      "num guess =  7\n",
      "guess was  10.3984375\n",
      "num guess =  8\n",
      "guess was  10.87109375\n",
      "num guess =  9\n",
      "guess was  11.107421875\n",
      "10.9892578125  is root of  121\n"
     ]
    }
   ],
   "source": [
    "x = 121\n",
    "epsilon = 1\n",
    "num_guess = 0\n",
    "\n",
    "\n",
    "low = 0 \n",
    "high = x \n",
    "\n",
    "guess = (low+high)/2.0\n",
    "\n",
    "while abs(guess ** 2 - x) >= epsilon:\n",
    "\n",
    "    num_guess += 1\n",
    "    print(\"num guess = \", num_guess)\n",
    "\n",
    "    \n",
    "    if guess** 2 < x:\n",
    "        # print(\"Too low\")\n",
    "        low = guess\n",
    "    else:\n",
    "        high = guess \n",
    "\n",
    "    print(\"guess was \", guess)\n",
    "    \n",
    "    guess = (low+high)/2.0\n",
    "\n",
    "# print(\"num guess = \", num_guess)\n",
    "\n",
    "print(guess, \" is root of \", x)"
   ]
  },
  {
   "cell_type": "code",
   "execution_count": 7,
   "metadata": {},
   "outputs": [
    {
     "data": {
      "text/plain": [
       "20.25"
      ]
     },
     "execution_count": 7,
     "metadata": {},
     "output_type": "execute_result"
    }
   ],
   "source": [
    "4.5 ** 2"
   ]
  },
  {
   "cell_type": "code",
   "execution_count": 3,
   "metadata": {},
   "outputs": [
    {
     "name": "stdout",
     "output_type": "stream",
     "text": [
      "low = 1.0 high 36 guess = 18.5\n",
      "low = 1.0 high 18.5 guess = 9.75\n",
      "low = 1.0 high 9.75 guess = 5.375\n",
      "low = 5.375 high 9.75 guess = 7.5625\n",
      "low = 5.375 high 7.5625 guess = 6.46875\n",
      "5.921875 is close to square root of 36\n"
     ]
    }
   ],
   "source": [
    "####################\n",
    "# Code for square root with all x values\n",
    "####################\n",
    "x = 36\n",
    "epsilon = 1\n",
    "if x >= 1:\n",
    "   low = 1.0\n",
    "   high = x\n",
    "else:\n",
    "   low = x\n",
    "   high = 1.0\n",
    "guess = (high + low)/2\n",
    "\n",
    "while abs(guess**2 - x) >= epsilon:\n",
    "   print(f'low = {str(low)} high {str(high)} guess = {str(guess)}')\n",
    "   if guess**2 < x:\n",
    "       low = guess\n",
    "   else:\n",
    "       high = guess\n",
    "   guess = (high + low)/2.0\n",
    "print(f'{str(guess)} is close to square root of {str(x)}')"
   ]
  },
  {
   "cell_type": "code",
   "execution_count": 4,
   "metadata": {},
   "outputs": [
    {
     "name": "stdout",
     "output_type": "stream",
     "text": [
      "num_guesses = 30\n",
      "233.06866218941286 is close to square root of 54321\n"
     ]
    }
   ],
   "source": [
    "\n",
    "x = 54321  # try 0.5\n",
    "epsilon = 0.01\n",
    "num_guesses = 0\n",
    "low = 0.0\n",
    "high = x\n",
    "guess = (high + low)/2\n",
    "\n",
    "while abs(guess**2 - x) >= epsilon:\n",
    "    # uncomment to see each step's guess, high, and low \n",
    "    #print(f'low = {str(low)} high = {str(high)} guess = {str(guess)}')\n",
    "    if guess**2 < x:\n",
    "        low = guess\n",
    "    else:\n",
    "        high = guess\n",
    "    guess = (high + low)/2.0\n",
    "    num_guesses += 1\n",
    "print(f'num_guesses = {str(num_guesses)}')\n",
    "print(f'{str(guess)} is close to square root of {str(x)}')"
   ]
  }
 ],
 "metadata": {
  "kernelspec": {
   "display_name": "Python 3",
   "language": "python",
   "name": "python3"
  },
  "language_info": {
   "codemirror_mode": {
    "name": "ipython",
    "version": 3
   },
   "file_extension": ".py",
   "mimetype": "text/x-python",
   "name": "python",
   "nbconvert_exporter": "python",
   "pygments_lexer": "ipython3",
   "version": "3.9.6"
  }
 },
 "nbformat": 4,
 "nbformat_minor": 2
}
