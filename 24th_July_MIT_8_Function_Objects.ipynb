{
 "cells": [
  {
   "cell_type": "code",
   "execution_count": 10,
   "metadata": {},
   "outputs": [
    {
     "name": "stdout",
     "output_type": "stream",
     "text": [
      " with return\n",
      "False\n"
     ]
    }
   ],
   "source": [
    "def is_even_with_return (i):\n",
    "    print (\" with return\")\n",
    "    remainder = i % 2 \n",
    "    return remainder == 0\n",
    "\n",
    "\n",
    "# is_even_with_return(3)          # -> False\n",
    "print(is_even_with_return(3))  # -> print(False)"
   ]
  },
  {
   "cell_type": "code",
   "execution_count": 6,
   "metadata": {},
   "outputs": [
    {
     "name": "stdout",
     "output_type": "stream",
     "text": [
      "without return\n",
      "False\n",
      "without return\n",
      "False\n",
      "None\n"
     ]
    }
   ],
   "source": [
    "def is_even_without_return( i ):\n",
    "    \"\"\" \n",
    "    Input: i, a positive int\n",
    "    Returns None\n",
    "    \"\"\"\n",
    "    print('without return')\n",
    "    remainder = i % 2\n",
    "    has_rem = (remainder == 0)\n",
    "    print(has_rem)\n",
    "\n",
    "\n",
    "is_even_without_return(3)          # -> None\n",
    "print(is_even_without_return(3))  # -> print(None)"
   ]
  },
  {
   "cell_type": "markdown",
   "metadata": {},
   "source": [
    "#### new\n"
   ]
  },
  {
   "cell_type": "code",
   "execution_count": 18,
   "metadata": {},
   "outputs": [
    {
     "data": {
      "text/plain": [
       "3"
      ]
     },
     "execution_count": 18,
     "metadata": {},
     "output_type": "execute_result"
    }
   ],
   "source": [
    "def add(x,y):\n",
    "    return x+y\n",
    "def mult(x,y):\n",
    "    print(x*y)\n",
    "    # return x * y\n",
    "\n",
    "add(1,2)\n",
    "# print(add(2,3))"
   ]
  },
  {
   "cell_type": "code",
   "execution_count": 19,
   "metadata": {},
   "outputs": [
    {
     "name": "stdout",
     "output_type": "stream",
     "text": [
      "20\n",
      "None\n"
     ]
    }
   ],
   "source": [
    "# mult(3,4)\n",
    "print(mult(4,5))  ## if there is return in the definition, then no none value here"
   ]
  },
  {
   "cell_type": "code",
   "execution_count": 22,
   "metadata": {},
   "outputs": [
    {
     "name": "stdout",
     "output_type": "stream",
     "text": [
      "5\n",
      "None\n"
     ]
    }
   ],
   "source": [
    "print(print(5))"
   ]
  },
  {
   "cell_type": "code",
   "execution_count": 14,
   "metadata": {},
   "outputs": [
    {
     "name": "stdout",
     "output_type": "stream",
     "text": [
      "0\n",
      "1\n",
      "2\n",
      "3\n",
      "False\n",
      "0\n",
      "1\n",
      "2\n",
      "3\n",
      "True\n",
      "0\n",
      "False\n"
     ]
    }
   ],
   "source": [
    "# Fix this buggy code so it works according to the specification:\n",
    "def is_triangular(n):\n",
    "    \"\"\" n is an int > 0 \n",
    "        Returns True if n is triangular, i.e. equals a continued\n",
    "        summation of natural numbers (1+2+3+...+k) \n",
    "    \"\"\"\n",
    "    total = 0\n",
    "    for i in range(n):\n",
    "        print(i)\n",
    "        total += i\n",
    "        if total == n:\n",
    "            # print(True)\n",
    "            return True\n",
    "    # print(False)\n",
    "    return False ## having print here returns none\n",
    "\n",
    "# # start by runing it on simple test cases\n",
    "print(is_triangular(4))  # print False\n",
    "print(is_triangular(6))  # print True\n",
    "print(is_triangular(1))  # print True"
   ]
  },
  {
   "cell_type": "code",
   "execution_count": 2,
   "metadata": {},
   "outputs": [
    {
     "name": "stdout",
     "output_type": "stream",
     "text": [
      "0\n",
      "1\n",
      "2\n",
      "3\n"
     ]
    }
   ],
   "source": [
    "for i in range(4):\n",
    "    print(i)"
   ]
  },
  {
   "cell_type": "code",
   "execution_count": 19,
   "metadata": {},
   "outputs": [
    {
     "name": "stdout",
     "output_type": "stream",
     "text": [
      "5.00030517578125\n"
     ]
    }
   ],
   "source": [
    "#########################\n",
    "### EXAMPLE: bisection square root as a function\n",
    "#########################\n",
    "def bisection_root(x):\n",
    "    epsilon = 0.01\n",
    "    low = 0\n",
    "    high = x\n",
    "    ans = (high + low)/2.0\n",
    "    while abs(ans**2 - x) >= epsilon:\n",
    "        if ans**2 < x: \n",
    "            low = ans\n",
    "        else: \n",
    "            high = ans\n",
    "        ans = (high + low)/2.0\n",
    "#    print(ans, 'is close to the root of', x)\n",
    "    return ans\n",
    "\n",
    "x = int(input(\"Enter x \"))\n",
    "print(bisection_root(x))\n",
    "# print(bisection_root(123))"
   ]
  },
  {
   "cell_type": "markdown",
   "metadata": {},
   "source": [
    "\n",
    "##### YOU TRY IT ######################\n"
   ]
  },
  {
   "cell_type": "code",
   "execution_count": null,
   "metadata": {},
   "outputs": [],
   "source": [
    "\n",
    "###################### YOU TRY IT ######################\n",
    "def count_nums_with_sqrt_close_to(n, epsilon):\n",
    "    \"\"\" n is an int > 2\n",
    "        epsilon is a positive number < 1\n",
    "    Returns how many integers have a square root within epsilon of n \"\"\"\n",
    "    # your code here\n",
    "\n",
    "\n",
    "#print(count_nums_with_sqrt_close_to(10, 0.1))\n",
    "\n",
    "#############################################################"
   ]
  }
 ],
 "metadata": {
  "kernelspec": {
   "display_name": "Python 3",
   "language": "python",
   "name": "python3"
  },
  "language_info": {
   "codemirror_mode": {
    "name": "ipython",
    "version": 3
   },
   "file_extension": ".py",
   "mimetype": "text/x-python",
   "name": "python",
   "nbconvert_exporter": "python",
   "pygments_lexer": "ipython3",
   "version": "3.9.6"
  }
 },
 "nbformat": 4,
 "nbformat_minor": 2
}
