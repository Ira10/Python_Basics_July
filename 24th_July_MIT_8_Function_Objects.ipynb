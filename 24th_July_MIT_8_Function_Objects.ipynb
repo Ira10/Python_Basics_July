{
 "cells": [
  {
   "cell_type": "code",
   "execution_count": 10,
   "metadata": {},
   "outputs": [
    {
     "name": "stdout",
     "output_type": "stream",
     "text": [
      " with return\n",
      "False\n"
     ]
    }
   ],
   "source": [
    "def is_even_with_return (i):\n",
    "    print (\" with return\")\n",
    "    remainder = i % 2 \n",
    "    return remainder == 0\n",
    "\n",
    "\n",
    "# is_even_with_return(3)          # -> False\n",
    "print(is_even_with_return(3))  # -> print(False)"
   ]
  },
  {
   "cell_type": "code",
   "execution_count": 6,
   "metadata": {},
   "outputs": [
    {
     "name": "stdout",
     "output_type": "stream",
     "text": [
      "without return\n",
      "False\n",
      "without return\n",
      "False\n",
      "None\n"
     ]
    }
   ],
   "source": [
    "def is_even_without_return( i ):\n",
    "    \"\"\" \n",
    "    Input: i, a positive int\n",
    "    Returns None\n",
    "    \"\"\"\n",
    "    print('without return')\n",
    "    remainder = i % 2\n",
    "    has_rem = (remainder == 0)\n",
    "    print(has_rem)\n",
    "\n",
    "\n",
    "is_even_without_return(3)          # -> None\n",
    "print(is_even_without_return(3))  # -> print(None)"
   ]
  },
  {
   "cell_type": "markdown",
   "metadata": {},
   "source": [
    "#### new\n"
   ]
  },
  {
   "cell_type": "code",
   "execution_count": 18,
   "metadata": {},
   "outputs": [
    {
     "data": {
      "text/plain": [
       "3"
      ]
     },
     "execution_count": 18,
     "metadata": {},
     "output_type": "execute_result"
    }
   ],
   "source": [
    "def add(x,y):\n",
    "    return x+y\n",
    "def mult(x,y):\n",
    "    print(x*y)\n",
    "    # return x * y\n",
    "\n",
    "add(1,2)\n",
    "# print(add(2,3))"
   ]
  },
  {
   "cell_type": "code",
   "execution_count": 19,
   "metadata": {},
   "outputs": [
    {
     "name": "stdout",
     "output_type": "stream",
     "text": [
      "20\n",
      "None\n"
     ]
    }
   ],
   "source": [
    "# mult(3,4)\n",
    "print(mult(4,5))  ## if there is print in the definition, then no none value here"
   ]
  }
 ],
 "metadata": {
  "kernelspec": {
   "display_name": "Python 3",
   "language": "python",
   "name": "python3"
  },
  "language_info": {
   "codemirror_mode": {
    "name": "ipython",
    "version": 3
   },
   "file_extension": ".py",
   "mimetype": "text/x-python",
   "name": "python",
   "nbconvert_exporter": "python",
   "pygments_lexer": "ipython3",
   "version": "3.9.6"
  }
 },
 "nbformat": 4,
 "nbformat_minor": 2
}
