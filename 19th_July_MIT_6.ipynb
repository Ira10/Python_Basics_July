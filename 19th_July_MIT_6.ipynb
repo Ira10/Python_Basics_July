{
 "cells": [
  {
   "cell_type": "code",
   "execution_count": 2,
   "metadata": {},
   "outputs": [],
   "source": [
    "# x = 0.5\n",
    "# epsilon = 0.01\n",
    "# # choose the low endpoint\n",
    "# low = 0.0001\n",
    "# # choose the high endpopint\n",
    "# high = x\n",
    "\n",
    "# guess = (high + low)/2\n",
    "\n",
    "# while abs(guess**2 - x) >= epsilon:\n",
    "#     print(f'low = {str(low)} high = {str(high)} guess = {str(guess)}')\n",
    "#     if guess**2 < x:\n",
    "#         low = guess\n",
    "#     else:\n",
    "#         high = guess\n",
    "#     guess = (high + low)/2.0\n",
    "# print(f'{str(guess)} is close to square root of {str(x)}')"
   ]
  },
  {
   "cell_type": "code",
   "execution_count": 8,
   "metadata": {},
   "outputs": [
    {
     "name": "stdout",
     "output_type": "stream",
     "text": [
      "guess number  1\n",
      "Too high\n",
      "guess number  2\n",
      "Too high\n",
      "guess number  3\n",
      "Too high\n",
      "guess number  4\n",
      "guess number  5\n",
      "guess number  6\n",
      "guess number  7\n",
      "Too high\n",
      "guess number  8\n",
      "Too high\n",
      "guess number  9\n",
      "Too high\n",
      "guess number  10\n",
      "guess number  11\n",
      "guess number  12\n",
      "guess number  13\n",
      "Too high\n",
      "guess number  14\n",
      "Too high\n",
      "3.000091552734375 is our cube of 27\n"
     ]
    }
   ],
   "source": [
    "cube = 27\n",
    "epsilon = 0.01 #000000000000001\n",
    "low = 0\n",
    "high = cube\n",
    "num_guess = 0\n",
    "\n",
    "guess = (high+low)/2\n",
    "\n",
    "while abs(guess ** 3 - cube) >= epsilon:\n",
    "\n",
    "    num_guess += 1 \n",
    "    print(\"guess number \", num_guess)\n",
    "\n",
    "    if guess ** 3 > cube:\n",
    "        print(\"Too high\")\n",
    "        high = guess\n",
    "    else:\n",
    "        low = guess \n",
    "    guess = (high+low)/2\n",
    "\n",
    "print(f\"{guess} is our cube of {x}\")\n"
   ]
  },
  {
   "cell_type": "code",
   "execution_count": 12,
   "metadata": {},
   "outputs": [
    {
     "name": "stdout",
     "output_type": "stream",
     "text": [
      "num_guesses = 4\n",
      "Square root of 24 is about 4.8989887432139305\n"
     ]
    }
   ],
   "source": [
    "#######################\n",
    "# EXAMPLE: Newton-Raphson to find roots\n",
    "#####################\n",
    "epsilon = 0.0001 #0000000000000000000000001\n",
    "k = 24  # try 54321\n",
    "guess = k/2.0\n",
    "num_guesses = 0\n",
    "\n",
    "while abs(guess*guess - k) >= epsilon:\n",
    "    num_guesses += 1\n",
    "    guess = guess - (((guess**2) - k)/(2*guess))\n",
    "print(f'num_guesses = {str(num_guesses)}')\n",
    "print(f'Square root of {str(k)} is about {str(guess)}')"
   ]
  }
 ],
 "metadata": {
  "kernelspec": {
   "display_name": "Python 3",
   "language": "python",
   "name": "python3"
  },
  "language_info": {
   "codemirror_mode": {
    "name": "ipython",
    "version": 3
   },
   "file_extension": ".py",
   "mimetype": "text/x-python",
   "name": "python",
   "nbconvert_exporter": "python",
   "pygments_lexer": "ipython3",
   "version": "3.9.6"
  }
 },
 "nbformat": 4,
 "nbformat_minor": 2
}
